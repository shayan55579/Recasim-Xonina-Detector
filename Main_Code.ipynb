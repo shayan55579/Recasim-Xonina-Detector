{
 "cells": [
  {
   "cell_type": "markdown",
   "metadata": {},
   "source": [
    "## Import necessary libraries"
   ]
  },
  {
   "cell_type": "code",
   "execution_count": 1,
   "metadata": {},
   "outputs": [],
   "source": [
    "import re\n",
    "import nltk\n",
    "import pandas as pd\n",
    "import numpy as np\n",
    "import tensorflow as tf\n",
    "import matplotlib.pyplot as plt\n",
    "from nltk.tokenize import word_tokenize\n",
    "from nltk.corpus import stopwords, wordnet\n",
    "from nltk.stem import WordNetLemmatizer\n",
    "from sklearn.model_selection import train_test_split\n",
    "from sklearn.metrics import classification_report\n",
    "from imblearn.over_sampling import RandomOverSampler\n",
    "from tensorflow.keras.optimizers import Adam\n",
    "from tensorflow.keras.models import Sequential\n",
    "from tensorflow.keras.layers import Embedding, Conv1D, GlobalMaxPooling1D, Dense, Dropout, BatchNormalization\n",
    "from tensorflow.keras.callbacks import EarlyStopping, ReduceLROnPlateau,LearningRateScheduler\n",
    "from tensorflow.keras.regularizers import l2\n",
    "from tensorflow.keras.preprocessing.text import Tokenizer\n",
    "from tensorflow.keras.preprocessing.sequence import pad_sequences\n",
    "from keras.callbacks import LearningRateScheduler\n",
    "import time\n",
    "import datetime"
   ]
  },
  {
   "cell_type": "code",
   "execution_count": 2,
   "metadata": {},
   "outputs": [
    {
     "name": "stderr",
     "output_type": "stream",
     "text": [
      "[nltk_data] Downloading package punkt to\n",
      "[nltk_data]     C:\\Users\\Shayan\\AppData\\Roaming\\nltk_data...\n",
      "[nltk_data]   Package punkt is already up-to-date!\n",
      "[nltk_data] Downloading package stopwords to\n",
      "[nltk_data]     C:\\Users\\Shayan\\AppData\\Roaming\\nltk_data...\n",
      "[nltk_data]   Package stopwords is already up-to-date!\n",
      "[nltk_data] Downloading package wordnet to\n",
      "[nltk_data]     C:\\Users\\Shayan\\AppData\\Roaming\\nltk_data...\n",
      "[nltk_data]   Package wordnet is already up-to-date!\n"
     ]
    },
    {
     "data": {
      "text/plain": [
       "True"
      ]
     },
     "execution_count": 2,
     "metadata": {},
     "output_type": "execute_result"
    }
   ],
   "source": [
    "# Download necessary NLTK resources\n",
    "nltk.download('punkt')\n",
    "nltk.download('stopwords')\n",
    "nltk.download('wordnet')"
   ]
  },
  {
   "cell_type": "code",
   "execution_count": 3,
   "metadata": {},
   "outputs": [],
   "source": [
    "# Load dataset\n",
    "df = pd.read_csv(r\"E:\\Seraj\\racism_xenophobia_data_comments_labeled.csv\")"
   ]
  },
  {
   "cell_type": "markdown",
   "metadata": {},
   "source": [
    "## Data preprocessing"
   ]
  },
  {
   "cell_type": "code",
   "execution_count": 4,
   "metadata": {},
   "outputs": [],
   "source": [
    "# Filter and preprocess data\n",
    "filtered_df = df[df['comment'].str.len() >= 30].copy()\n",
    "filtered_df.reset_index(drop=True, inplace=True)\n",
    "filtered_df.dropna(inplace=True)"
   ]
  },
  {
   "cell_type": "code",
   "execution_count": 5,
   "metadata": {},
   "outputs": [],
   "source": [
    "# Preprocessing function\n",
    "def preprocess_text(text, use_lemmatization=True):\n",
    "    if not isinstance(text, str):\n",
    "        return \"\"\n",
    "    text = text.lower()\n",
    "    text = re.sub(r'https?://\\S+|www\\.\\S+', '', text)  # Remove URLs\n",
    "    text = re.sub(r'\\S+@\\S+', '', text)  # Remove Emails\n",
    "    text = re.sub(r'[^\\w\\s]', '', text)  # Remove punctuation\n",
    "    text = re.sub(r'\\d+', '', text)  # Remove numbers\n",
    "    tokens = word_tokenize(text)\n",
    "    stop_words = set(stopwords.words('english'))\n",
    "    filtered_tokens = [word for word in tokens if word not in stop_words]\n",
    "\n",
    "    # Handling negations\n",
    "    processed_tokens = []\n",
    "    i = 0\n",
    "    while i < len(filtered_tokens):\n",
    "        if filtered_tokens[i] == 'not' and i + 1 < len(filtered_tokens):\n",
    "            processed_tokens.append('not_' + filtered_tokens[i + 1])\n",
    "            i += 2  # Skip the next word since it's combined\n",
    "        else:\n",
    "            processed_tokens.append(filtered_tokens[i])\n",
    "            i += 1\n",
    "\n",
    "    # Lemmatization\n",
    "    if use_lemmatization:\n",
    "        lemmatizer = WordNetLemmatizer()\n",
    "        processed_tokens = [lemmatizer.lemmatize(token) for token in processed_tokens]\n",
    "\n",
    "    return \" \".join(processed_tokens)"
   ]
  },
  {
   "cell_type": "code",
   "execution_count": 6,
   "metadata": {},
   "outputs": [],
   "source": [
    "# Apply preprocessing\n",
    "filtered_df['processed_comments'] = filtered_df['comment'].apply(preprocess_text)\n",
    "filtered_df['label'] = filtered_df['label'].astype(int)"
   ]
  },
  {
   "cell_type": "code",
   "execution_count": 7,
   "metadata": {},
   "outputs": [],
   "source": [
    "# Adjust labels\n",
    "mapping_dict = {1: 0, 2: 1}\n",
    "filtered_df['label'] = filtered_df['label'].replace(mapping_dict)"
   ]
  },
  {
   "cell_type": "code",
   "execution_count": 8,
   "metadata": {},
   "outputs": [],
   "source": [
    "# Oversample the entire dataset\n",
    "ros = RandomOverSampler(random_state=42)\n",
    "X_resampled, y_resampled = ros.fit_resample(filtered_df['processed_comments'].values.reshape(-1, 1), filtered_df['label'])\n",
    "\n",
    "# Convert resampled data to the correct format\n",
    "X_resampled_flat = X_resampled.flatten()"
   ]
  },
  {
   "cell_type": "code",
   "execution_count": 9,
   "metadata": {},
   "outputs": [],
   "source": [
    "# Split data into training and test sets\n",
    "X_train, X_test, y_train, y_test = train_test_split(X_resampled_flat, y_resampled, test_size=0.2, random_state=42, shuffle=True)"
   ]
  },
  {
   "cell_type": "code",
   "execution_count": 10,
   "metadata": {},
   "outputs": [],
   "source": [
    "# Define parameters\n",
    "max_tokens = 7000\n",
    "max_len = 700\n",
    "\n",
    "# Tokenize the data\n",
    "tokenizer = Tokenizer(num_words=max_tokens)\n",
    "tokenizer.fit_on_texts(X_train)\n",
    "X_train_seq = tokenizer.texts_to_sequences(X_train)\n",
    "X_test_seq = tokenizer.texts_to_sequences(X_test)\n",
    "\n",
    "# Pad the sequences\n",
    "X_train_pad = pad_sequences(X_train_seq, maxlen=max_len, padding='post')\n",
    "X_test_pad = pad_sequences(X_test_seq, maxlen=max_len, padding='post')"
   ]
  },
  {
   "cell_type": "code",
   "execution_count": 11,
   "metadata": {},
   "outputs": [],
   "source": [
    "# Load GloVe embeddings\n",
    "def load_glove_embeddings(filepath, word_index, embedding_dim=100):\n",
    "    embeddings_index = {}\n",
    "    with open(filepath, encoding='utf-8') as f:\n",
    "        for line in f:\n",
    "            values = line.split()\n",
    "            word = values[0]\n",
    "            coefs = np.asarray(values[1:], dtype='float32')\n",
    "            embeddings_index[word] = coefs\n",
    "\n",
    "    embedding_matrix = np.zeros((len(word_index) + 1, embedding_dim))\n",
    "    for word, i in word_index.items():\n",
    "        embedding_vector = embeddings_index.get(word)\n",
    "        if embedding_vector is not None:\n",
    "            embedding_matrix[i] = embedding_vector\n",
    "    \n",
    "    return embedding_matrix\n",
    "\n",
    "embedding_dim = 100\n",
    "embedding_matrix = load_glove_embeddings('glove.6B.100d.txt', tokenizer.word_index, embedding_dim)\n",
    "\n",
    "# Build the model\n",
    "embedding_layer = Embedding(input_dim=len(tokenizer.word_index) + 1, \n",
    "                            output_dim=embedding_dim, \n",
    "                            embeddings_initializer=tf.keras.initializers.Constant(embedding_matrix), \n",
    "                            trainable=False)"
   ]
  },
  {
   "cell_type": "markdown",
   "metadata": {},
   "source": [
    "## Model architecture"
   ]
  },
  {
   "cell_type": "code",
   "execution_count": 12,
   "metadata": {},
   "outputs": [],
   "source": [
    "# Define a function for learning rate scheduling\n",
    "def lr_scheduler(epoch, lr):\n",
    "    if epoch % 5 == 0 and epoch != 0:\n",
    "        lr = lr * 0.1\n",
    "    return lr"
   ]
  },
  {
   "cell_type": "code",
   "execution_count": 13,
   "metadata": {},
   "outputs": [],
   "source": [
    "# Build the model architecture\n",
    "model = Sequential([\n",
    "    embedding_layer,\n",
    "    Conv1D(32, 5, activation='relu', padding='same', kernel_regularizer=l2(0.01)),\n",
    "    GlobalMaxPooling1D(),\n",
    "    Dense(32, activation='relu', kernel_regularizer=l2(0.01)),\n",
    "    Dropout(0.5),\n",
    "    Dense(32, activation='relu', kernel_regularizer=l2(0.01)),\n",
    "    Dropout(0.5),\n",
    "    BatchNormalization(),\n",
    "    Dense(1, activation='sigmoid')\n",
    "])"
   ]
  },
  {
   "cell_type": "code",
   "execution_count": 14,
   "metadata": {},
   "outputs": [],
   "source": [
    "# Compile the model with the initial learning rate\n",
    "initial_lr = 5e-4\n",
    "model.compile(optimizer=Adam(learning_rate=initial_lr),\n",
    "              loss='binary_crossentropy',\n",
    "              metrics=['accuracy'])\n",
    "\n",
    "# Callbacks for early stopping, learning rate reduction, and learning rate scheduler\n",
    "early_stopping = EarlyStopping(monitor='val_loss', patience=5, restore_best_weights=True)\n",
    "reduce_lr = ReduceLROnPlateau(monitor='val_loss', factor=0.1, patience=2)\n",
    "lr_scheduler_callback = LearningRateScheduler(lr_scheduler)"
   ]
  },
  {
   "cell_type": "markdown",
   "metadata": {},
   "source": [
    "## Train the model"
   ]
  },
  {
   "cell_type": "code",
   "execution_count": 15,
   "metadata": {},
   "outputs": [
    {
     "name": "stdout",
     "output_type": "stream",
     "text": [
      "Epoch 1/40\n",
      "\u001b[1m189/189\u001b[0m \u001b[32m━━━━━━━━━━━━━━━━━━━━\u001b[0m\u001b[37m\u001b[0m \u001b[1m56s\u001b[0m 251ms/step - accuracy: 0.5112 - loss: 1.8198 - val_accuracy: 0.6086 - val_loss: 1.2391 - learning_rate: 5.0000e-04\n",
      "Epoch 2/40\n",
      "\u001b[1m189/189\u001b[0m \u001b[32m━━━━━━━━━━━━━━━━━━━━\u001b[0m\u001b[37m\u001b[0m \u001b[1m59s\u001b[0m 314ms/step - accuracy: 0.5539 - loss: 1.2198 - val_accuracy: 0.6040 - val_loss: 0.9876 - learning_rate: 5.0000e-04\n",
      "Epoch 3/40\n",
      "\u001b[1m189/189\u001b[0m \u001b[32m━━━━━━━━━━━━━━━━━━━━\u001b[0m\u001b[37m\u001b[0m \u001b[1m56s\u001b[0m 296ms/step - accuracy: 0.6318 - loss: 0.9161 - val_accuracy: 0.6706 - val_loss: 0.8317 - learning_rate: 5.0000e-04\n",
      "Epoch 4/40\n",
      "\u001b[1m189/189\u001b[0m \u001b[32m━━━━━━━━━━━━━━━━━━━━\u001b[0m\u001b[37m\u001b[0m \u001b[1m52s\u001b[0m 276ms/step - accuracy: 0.6845 - loss: 0.7676 - val_accuracy: 0.7097 - val_loss: 0.7118 - learning_rate: 5.0000e-04\n",
      "Epoch 5/40\n",
      "\u001b[1m189/189\u001b[0m \u001b[32m━━━━━━━━━━━━━━━━━━━━\u001b[0m\u001b[37m\u001b[0m \u001b[1m48s\u001b[0m 255ms/step - accuracy: 0.7269 - loss: 0.6754 - val_accuracy: 0.7425 - val_loss: 0.6282 - learning_rate: 5.0000e-04\n",
      "Epoch 6/40\n",
      "\u001b[1m189/189\u001b[0m \u001b[32m━━━━━━━━━━━━━━━━━━━━\u001b[0m\u001b[37m\u001b[0m \u001b[1m54s\u001b[0m 286ms/step - accuracy: 0.7654 - loss: 0.6059 - val_accuracy: 0.7675 - val_loss: 0.5827 - learning_rate: 5.0000e-04\n",
      "Epoch 7/40\n",
      "\u001b[1m189/189\u001b[0m \u001b[32m━━━━━━━━━━━━━━━━━━━━\u001b[0m\u001b[37m\u001b[0m \u001b[1m56s\u001b[0m 297ms/step - accuracy: 0.8030 - loss: 0.5448 - val_accuracy: 0.7551 - val_loss: 0.5906 - learning_rate: 5.0000e-04\n",
      "Epoch 8/40\n",
      "\u001b[1m189/189\u001b[0m \u001b[32m━━━━━━━━━━━━━━━━━━━━\u001b[0m\u001b[37m\u001b[0m \u001b[1m54s\u001b[0m 284ms/step - accuracy: 0.8220 - loss: 0.5094 - val_accuracy: 0.7945 - val_loss: 0.5455 - learning_rate: 5.0000e-04\n",
      "Epoch 9/40\n",
      "\u001b[1m189/189\u001b[0m \u001b[32m━━━━━━━━━━━━━━━━━━━━\u001b[0m\u001b[37m\u001b[0m \u001b[1m52s\u001b[0m 275ms/step - accuracy: 0.8479 - loss: 0.4648 - val_accuracy: 0.8116 - val_loss: 0.5195 - learning_rate: 5.0000e-04\n",
      "Epoch 10/40\n",
      "\u001b[1m189/189\u001b[0m \u001b[32m━━━━━━━━━━━━━━━━━━━━\u001b[0m\u001b[37m\u001b[0m \u001b[1m48s\u001b[0m 256ms/step - accuracy: 0.8666 - loss: 0.4342 - val_accuracy: 0.8204 - val_loss: 0.5114 - learning_rate: 5.0000e-04\n",
      "Epoch 11/40\n",
      "\u001b[1m189/189\u001b[0m \u001b[32m━━━━━━━━━━━━━━━━━━━━\u001b[0m\u001b[37m\u001b[0m \u001b[1m45s\u001b[0m 240ms/step - accuracy: 0.8725 - loss: 0.4208 - val_accuracy: 0.7961 - val_loss: 0.5437 - learning_rate: 5.0000e-04\n",
      "Epoch 12/40\n",
      "\u001b[1m189/189\u001b[0m \u001b[32m━━━━━━━━━━━━━━━━━━━━\u001b[0m\u001b[37m\u001b[0m \u001b[1m41s\u001b[0m 217ms/step - accuracy: 0.8872 - loss: 0.3935 - val_accuracy: 0.8366 - val_loss: 0.4946 - learning_rate: 5.0000e-04\n",
      "Epoch 13/40\n",
      "\u001b[1m189/189\u001b[0m \u001b[32m━━━━━━━━━━━━━━━━━━━━\u001b[0m\u001b[37m\u001b[0m \u001b[1m45s\u001b[0m 240ms/step - accuracy: 0.8996 - loss: 0.3690 - val_accuracy: 0.8290 - val_loss: 0.5137 - learning_rate: 5.0000e-04\n",
      "Epoch 14/40\n",
      "\u001b[1m189/189\u001b[0m \u001b[32m━━━━━━━━━━━━━━━━━━━━\u001b[0m\u001b[37m\u001b[0m \u001b[1m44s\u001b[0m 231ms/step - accuracy: 0.9028 - loss: 0.3623 - val_accuracy: 0.8469 - val_loss: 0.4891 - learning_rate: 5.0000e-04\n",
      "Epoch 15/40\n",
      "\u001b[1m189/189\u001b[0m \u001b[32m━━━━━━━━━━━━━━━━━━━━\u001b[0m\u001b[37m\u001b[0m \u001b[1m47s\u001b[0m 250ms/step - accuracy: 0.9048 - loss: 0.3599 - val_accuracy: 0.8564 - val_loss: 0.4790 - learning_rate: 5.0000e-04\n",
      "Epoch 16/40\n",
      "\u001b[1m189/189\u001b[0m \u001b[32m━━━━━━━━━━━━━━━━━━━━\u001b[0m\u001b[37m\u001b[0m \u001b[1m59s\u001b[0m 313ms/step - accuracy: 0.9171 - loss: 0.3387 - val_accuracy: 0.8534 - val_loss: 0.4912 - learning_rate: 5.0000e-04\n",
      "Epoch 17/40\n",
      "\u001b[1m189/189\u001b[0m \u001b[32m━━━━━━━━━━━━━━━━━━━━\u001b[0m\u001b[37m\u001b[0m \u001b[1m62s\u001b[0m 326ms/step - accuracy: 0.9170 - loss: 0.3344 - val_accuracy: 0.8558 - val_loss: 0.4818 - learning_rate: 5.0000e-04\n",
      "Epoch 18/40\n",
      "\u001b[1m189/189\u001b[0m \u001b[32m━━━━━━━━━━━━━━━━━━━━\u001b[0m\u001b[37m\u001b[0m \u001b[1m58s\u001b[0m 305ms/step - accuracy: 0.9349 - loss: 0.3010 - val_accuracy: 0.8802 - val_loss: 0.4561 - learning_rate: 5.0000e-05\n",
      "Epoch 19/40\n",
      "\u001b[1m189/189\u001b[0m \u001b[32m━━━━━━━━━━━━━━━━━━━━\u001b[0m\u001b[37m\u001b[0m \u001b[1m62s\u001b[0m 330ms/step - accuracy: 0.9515 - loss: 0.2645 - val_accuracy: 0.8839 - val_loss: 0.4501 - learning_rate: 5.0000e-05\n",
      "Epoch 20/40\n",
      "\u001b[1m189/189\u001b[0m \u001b[32m━━━━━━━━━━━━━━━━━━━━\u001b[0m\u001b[37m\u001b[0m \u001b[1m56s\u001b[0m 299ms/step - accuracy: 0.9571 - loss: 0.2508 - val_accuracy: 0.8854 - val_loss: 0.4478 - learning_rate: 5.0000e-05\n",
      "Epoch 21/40\n",
      "\u001b[1m189/189\u001b[0m \u001b[32m━━━━━━━━━━━━━━━━━━━━\u001b[0m\u001b[37m\u001b[0m \u001b[1m59s\u001b[0m 312ms/step - accuracy: 0.9593 - loss: 0.2450 - val_accuracy: 0.8858 - val_loss: 0.4505 - learning_rate: 5.0000e-05\n",
      "Epoch 22/40\n",
      "\u001b[1m189/189\u001b[0m \u001b[32m━━━━━━━━━━━━━━━━━━━━\u001b[0m\u001b[37m\u001b[0m \u001b[1m64s\u001b[0m 340ms/step - accuracy: 0.9598 - loss: 0.2431 - val_accuracy: 0.8917 - val_loss: 0.4322 - learning_rate: 5.0000e-05\n",
      "Epoch 23/40\n",
      "\u001b[1m189/189\u001b[0m \u001b[32m━━━━━━━━━━━━━━━━━━━━\u001b[0m\u001b[37m\u001b[0m \u001b[1m63s\u001b[0m 334ms/step - accuracy: 0.9647 - loss: 0.2312 - val_accuracy: 0.8959 - val_loss: 0.4286 - learning_rate: 5.0000e-05\n",
      "Epoch 24/40\n",
      "\u001b[1m189/189\u001b[0m \u001b[32m━━━━━━━━━━━━━━━━━━━━\u001b[0m\u001b[37m\u001b[0m \u001b[1m62s\u001b[0m 328ms/step - accuracy: 0.9646 - loss: 0.2313 - val_accuracy: 0.8944 - val_loss: 0.4325 - learning_rate: 5.0000e-05\n",
      "Epoch 25/40\n",
      "\u001b[1m189/189\u001b[0m \u001b[32m━━━━━━━━━━━━━━━━━━━━\u001b[0m\u001b[37m\u001b[0m \u001b[1m64s\u001b[0m 337ms/step - accuracy: 0.9681 - loss: 0.2223 - val_accuracy: 0.8977 - val_loss: 0.4288 - learning_rate: 5.0000e-05\n",
      "Epoch 26/40\n",
      "\u001b[1m189/189\u001b[0m \u001b[32m━━━━━━━━━━━━━━━━━━━━\u001b[0m\u001b[37m\u001b[0m \u001b[1m68s\u001b[0m 360ms/step - accuracy: 0.9698 - loss: 0.2159 - val_accuracy: 0.8963 - val_loss: 0.4332 - learning_rate: 5.0000e-06\n",
      "Epoch 27/40\n",
      "\u001b[1m189/189\u001b[0m \u001b[32m━━━━━━━━━━━━━━━━━━━━\u001b[0m\u001b[37m\u001b[0m \u001b[1m51s\u001b[0m 270ms/step - accuracy: 0.9696 - loss: 0.2164 - val_accuracy: 0.8983 - val_loss: 0.4280 - learning_rate: 5.0000e-06\n",
      "Epoch 28/40\n",
      "\u001b[1m189/189\u001b[0m \u001b[32m━━━━━━━━━━━━━━━━━━━━\u001b[0m\u001b[37m\u001b[0m \u001b[1m54s\u001b[0m 286ms/step - accuracy: 0.9690 - loss: 0.2169 - val_accuracy: 0.8973 - val_loss: 0.4320 - learning_rate: 5.0000e-06\n",
      "Epoch 29/40\n",
      "\u001b[1m189/189\u001b[0m \u001b[32m━━━━━━━━━━━━━━━━━━━━\u001b[0m\u001b[37m\u001b[0m \u001b[1m60s\u001b[0m 317ms/step - accuracy: 0.9701 - loss: 0.2116 - val_accuracy: 0.8978 - val_loss: 0.4314 - learning_rate: 5.0000e-06\n",
      "Epoch 30/40\n",
      "\u001b[1m189/189\u001b[0m \u001b[32m━━━━━━━━━━━━━━━━━━━━\u001b[0m\u001b[37m\u001b[0m \u001b[1m59s\u001b[0m 312ms/step - accuracy: 0.9691 - loss: 0.2172 - val_accuracy: 0.8978 - val_loss: 0.4316 - learning_rate: 5.0000e-07\n",
      "Epoch 31/40\n",
      "\u001b[1m189/189\u001b[0m \u001b[32m━━━━━━━━━━━━━━━━━━━━\u001b[0m\u001b[37m\u001b[0m \u001b[1m58s\u001b[0m 309ms/step - accuracy: 0.9682 - loss: 0.2192 - val_accuracy: 0.8972 - val_loss: 0.4335 - learning_rate: 5.0000e-07\n",
      "Epoch 32/40\n",
      "\u001b[1m189/189\u001b[0m \u001b[32m━━━━━━━━━━━━━━━━━━━━\u001b[0m\u001b[37m\u001b[0m \u001b[1m46s\u001b[0m 245ms/step - accuracy: 0.9696 - loss: 0.2147 - val_accuracy: 0.8975 - val_loss: 0.4326 - learning_rate: 5.0000e-08\n",
      "Total training time: 0:29:27.984429\n"
     ]
    }
   ],
   "source": [
    "start_training_time = time.time()\n",
    "history = model.fit(X_train_pad, y_train,\n",
    "                    validation_data=(X_test_pad, y_test),\n",
    "                    epochs=40,\n",
    "                    batch_size=256,\n",
    "                    callbacks=[early_stopping, reduce_lr])\n",
    "end_training_time = time.time()\n",
    "training_time = end_training_time - start_training_time\n",
    "\n",
    "# Convert training time to hours, minutes, and seconds\n",
    "training_time_delta = datetime.timedelta(seconds=training_time)\n",
    "print(f\"Total training time: {training_time_delta}\")\n"
   ]
  },
  {
   "cell_type": "markdown",
   "metadata": {},
   "source": [
    "## Evaluate"
   ]
  },
  {
   "cell_type": "code",
   "execution_count": 16,
   "metadata": {},
   "outputs": [
    {
     "name": "stdout",
     "output_type": "stream",
     "text": [
      "\u001b[1m378/378\u001b[0m \u001b[32m━━━━━━━━━━━━━━━━━━━━\u001b[0m\u001b[37m\u001b[0m \u001b[1m5s\u001b[0m 12ms/step - accuracy: 0.8925 - loss: 0.4440\n",
      "Test Loss: 0.42802608013153076\n",
      "Test Accuracy: 0.8983373045921326\n"
     ]
    }
   ],
   "source": [
    "# Evaluate the model on the test set\n",
    "loss, accuracy = model.evaluate(X_test_pad, y_test)\n",
    "print(f'Test Loss: {loss}')\n",
    "print(f'Test Accuracy: {accuracy}')"
   ]
  },
  {
   "cell_type": "code",
   "execution_count": 17,
   "metadata": {},
   "outputs": [
    {
     "name": "stdout",
     "output_type": "stream",
     "text": [
      "\u001b[1m378/378\u001b[0m \u001b[32m━━━━━━━━━━━━━━━━━━━━\u001b[0m\u001b[37m\u001b[0m \u001b[1m7s\u001b[0m 13ms/step\n",
      "              precision    recall  f1-score   support\n",
      "\n",
      "           0       0.96      0.83      0.89      6013\n",
      "           1       0.85      0.97      0.91      6076\n",
      "\n",
      "    accuracy                           0.90     12089\n",
      "   macro avg       0.91      0.90      0.90     12089\n",
      "weighted avg       0.91      0.90      0.90     12089\n",
      "\n"
     ]
    }
   ],
   "source": [
    "# Generate classification report\n",
    "y_pred = (model.predict(X_test_pad) > 0.5).astype(\"int32\")\n",
    "print(classification_report(y_test, y_pred))"
   ]
  },
  {
   "cell_type": "code",
   "execution_count": 18,
   "metadata": {},
   "outputs": [
    {
     "data": {
      "image/png": "[encoded data removed]",
      "text/plain": [
       "<Figure size 864x432 with 2 Axes>"
      ]
     },
     "metadata": {
      "needs_background": "light"
     },
     "output_type": "display_data"
    }
   ],
   "source": [
    "# Plot training & validation accuracy\n",
    "plt.figure(figsize=(12, 6))\n",
    "plt.subplot(1, 2, 1)\n",
    "plt.plot(history.history['accuracy'])\n",
    "plt.plot(history.history['val_accuracy'])\n",
    "plt.title('Model accuracy')\n",
    "plt.ylabel('Accuracy')\n",
    "plt.xlabel('Epoch')\n",
    "plt.legend(['Train', 'Validation'], loc='upper left')\n",
    "\n",
    "# Plot training & validation loss\n",
    "plt.subplot(1, 2, 2)\n",
    "plt.plot(history.history['loss'])\n",
    "plt.plot(history.history['val_loss'])\n",
    "plt.title('Model loss')\n",
    "plt.ylabel('Loss')\n",
    "plt.xlabel('Epoch')\n",
    "plt.legend(['Train', 'Validation'], loc='upper left')\n",
    "\n",
    "plt.show()"
   ]
  },
  {
   "cell_type": "markdown",
   "metadata": {},
   "source": [
    "## Prediction"
   ]
  },
  {
   "cell_type": "code",
   "execution_count": 19,
   "metadata": {},
   "outputs": [],
   "source": [
    "# Prediction functions\n",
    "def preprocess_single_sentence(sentence, tokenizer, max_len, use_lemmatization=True):\n",
    "    sentence = preprocess_text(sentence, use_lemmatization)\n",
    "    sequence = tokenizer.texts_to_sequences([sentence])\n",
    "    padded_sequence = pad_sequences(sequence, maxlen=max_len, padding='post')\n",
    "    return padded_sequence\n",
    "\n",
    "def predict_and_time(sentences, model, tokenizer, max_len, batch_size=32):\n",
    "    input_data = np.vstack([preprocess_single_sentence(sentence, tokenizer, max_len) for sentence in sentences])\n",
    "    \n",
    "    start_time = time.time()\n",
    "    predictions = model.predict(input_data, batch_size=batch_size)\n",
    "    end_time = time.time()\n",
    "    \n",
    "    inference_time = end_time - start_time\n",
    "    \n",
    "    results = []\n",
    "    for prediction in predictions:\n",
    "        predicted_probability = prediction[0] * 100\n",
    "        predicted_class = int(prediction[0] > 0.5)\n",
    "        class_description = \"Xenophobic statements\" if predicted_class == 1 else \"Racism\"\n",
    "        results.append((predicted_probability, class_description))\n",
    "    \n",
    "    return results, inference_time"
   ]
  },
  {
   "cell_type": "code",
   "execution_count": 20,
   "metadata": {},
   "outputs": [
    {
     "name": "stdout",
     "output_type": "stream",
     "text": [
      "\u001b[1m1/1\u001b[0m \u001b[32m━━━━━━━━━━━━━━━━━━━━\u001b[0m\u001b[37m\u001b[0m \u001b[1m0s\u001b[0m 45ms/step\n",
      "Sentence 1:\n",
      "  Predicted probability: 96.93%\n",
      "  Class description: Xenophobic statements\n",
      "Sentence 2:\n",
      "  Predicted probability: 97.57%\n",
      "  Class description: Xenophobic statements\n",
      "Total inference time for 2 sentences: 0.1048 seconds\n"
     ]
    }
   ],
   "source": [
    "sentences = [\"The color of your skin determines your worth.\", \"Foreigners steal our jobs and resources.\"]\n",
    "results, inference_time = predict_and_time(sentences, model, tokenizer, max_len)\n",
    "\n",
    "# Print predictions and inference time\n",
    "for i, (predicted_probability, class_description) in enumerate(results):\n",
    "    print(f\"Sentence {i+1}:\")\n",
    "    print(f\"  Predicted probability: {predicted_probability:.2f}%\")\n",
    "    print(f\"  Class description: {class_description}\")\n",
    "print(f\"Total inference time for {len(sentences)} sentences: {inference_time:.4f} seconds\")"
   ]
  },
  {
   "cell_type": "code",
   "execution_count": 22,
   "metadata": {},
   "outputs": [],
   "source": [
    "model.save('model.keras')"
   ]
  }
 ],
 "metadata": {
  "kernelspec": {
   "display_name": "Python 3",
   "language": "python",
   "name": "python3"
  },
  "language_info": {
   "codemirror_mode": {
    "name": "ipython",
    "version": 3
   },
   "file_extension": ".py",
   "mimetype": "text/x-python",
   "name": "python",
   "nbconvert_exporter": "python",
   "pygments_lexer": "ipython3",
   "version": "3.9.6"
  }
 },
 "nbformat": 4,
 "nbformat_minor": 2
}
